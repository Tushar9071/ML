{
 "cells": [
  {
   "cell_type": "markdown",
   "id": "4d38a88e",
   "metadata": {},
   "source": [
    "\n",
    "this is from scratch logistic regression"
   ]
  },
  {
   "cell_type": "code",
   "execution_count": 21,
   "id": "30db883b",
   "metadata": {},
   "outputs": [],
   "source": [
    "import pandas as pd\n",
    "import numpy as np"
   ]
  },
  {
   "cell_type": "code",
   "execution_count": 27,
   "id": "b87904bb",
   "metadata": {},
   "outputs": [],
   "source": [
    "data = pd.DataFrame({\n",
    "    'hours':[1, 2, 3, 4, 5],\n",
    "    'passed':[0, 0, 1, 1, 1]\n",
    "})"
   ]
  },
  {
   "cell_type": "code",
   "execution_count": 33,
   "id": "8913cd08",
   "metadata": {},
   "outputs": [],
   "source": [
    "x = data['hours'].values.reshape(-1,1)\n",
    "y = data['passed'].values.reshape(-1,1)"
   ]
  },
  {
   "cell_type": "code",
   "execution_count": 37,
   "id": "27c03c3b",
   "metadata": {},
   "outputs": [],
   "source": [
    "x = np.c_[np.ones((x.shape[0],1)),x]"
   ]
  },
  {
   "cell_type": "code",
   "execution_count": 39,
   "id": "3c31d3f5",
   "metadata": {},
   "outputs": [],
   "source": [
    "def sigmoid(z):\n",
    "    return 1/1+np.exp(-z)"
   ]
  },
  {
   "cell_type": "code",
   "execution_count": 40,
   "id": "59567b33",
   "metadata": {},
   "outputs": [],
   "source": [
    "def compute_loss(y,y_hat):\n",
    "    m = y.shape[0]\n",
    "    return -1/m * np.sum(y*np.log(y_hat+1e-8)+(1-y)*np.log(1-y_hat+1e-8))"
   ]
  },
  {
   "cell_type": "code",
   "execution_count": null,
   "id": "3b471117",
   "metadata": {},
   "outputs": [],
   "source": [
    "def train_logistic_regression(X,y,lr=0.1,epochs=1000):\n",
    "    m,n = X.shape\n",
    "    weights = np.zeros((n,1))\n",
    "    \n",
    "    for i in range(epochs):\n",
    "        z = np.dot(X,weights)\n",
    "        y_hat = sigmoid(z)\n",
    "        error = y_hat -y\n",
    "        gradient = np.dot(X.T,error)/m\n",
    "        weights -= lr * gradient\n",
    "        \n",
    "        if i%100 ==0:\n",
    "            loss = compute_loss(y,y_hat)\n",
    "            # print(f\"Epoch {i}: Loss = {loss:.4f}\")\n",
    "    return weights "
   ]
  },
  {
   "cell_type": "code",
   "execution_count": 42,
   "id": "4f0ff803",
   "metadata": {},
   "outputs": [
    {
     "name": "stdout",
     "output_type": "stream",
     "text": [
      "Epoch 0: Loss = nan\n",
      "Epoch 100: Loss = nan\n",
      "Epoch 200: Loss = nan\n",
      "Epoch 300: Loss = nan\n",
      "Epoch 400: Loss = nan\n",
      "Epoch 500: Loss = nan\n",
      "Epoch 600: Loss = nan\n",
      "Epoch 700: Loss = nan\n",
      "Epoch 800: Loss = nan\n",
      "Epoch 900: Loss = nan\n"
     ]
    },
    {
     "name": "stderr",
     "output_type": "stream",
     "text": [
      "/tmp/ipykernel_14672/3384501012.py:3: RuntimeWarning: invalid value encountered in log\n",
      "  return -1/m * np.sum(y*np.log(y_hat+1e-8)+(1-y)*np.log(1-y_hat+1e-8))\n",
      "/tmp/ipykernel_14672/3333565007.py:2: RuntimeWarning: overflow encountered in exp\n",
      "  return 1/1+np.exp(-z)\n",
      "/tmp/ipykernel_14672/3384501012.py:3: RuntimeWarning: invalid value encountered in multiply\n",
      "  return -1/m * np.sum(y*np.log(y_hat+1e-8)+(1-y)*np.log(1-y_hat+1e-8))\n"
     ]
    }
   ],
   "source": [
    "weights = train_logistic_regression(x,y)"
   ]
  },
  {
   "cell_type": "code",
   "execution_count": 43,
   "id": "60f049b3",
   "metadata": {},
   "outputs": [],
   "source": [
    "def predict(x,weights):\n",
    "    x = np.array([1, x])\n",
    "    prob = sigmoid(np.dot(x, weights))\n",
    "    return int(prob >= 0.5), float(prob)"
   ]
  },
  {
   "cell_type": "code",
   "execution_count": 45,
   "id": "fd92dbe5",
   "metadata": {},
   "outputs": [
    {
     "name": "stdout",
     "output_type": "stream",
     "text": [
      "\n",
      "Prediction for 3.5 hours studied:\n",
      "Class: 1 (0=Fail, 1=Pass), Probability of Passing: inf\n"
     ]
    },
    {
     "name": "stderr",
     "output_type": "stream",
     "text": [
      "/tmp/ipykernel_14672/1847486562.py:4: DeprecationWarning: Conversion of an array with ndim > 0 to a scalar is deprecated, and will error in future. Ensure you extract a single element from your array before performing this operation. (Deprecated NumPy 1.25.)\n",
      "  return int(prob >= 0.5), float(prob)\n"
     ]
    }
   ],
   "source": [
    "x_test = 3.5\n",
    "label, prob = predict(x_test, weights)\n",
    "print(f\"\\nPrediction for {x_test} hours studied:\")\n",
    "print(f\"Class: {label} (0=Fail, 1=Pass), Probability of Passing: {prob:.2f}\")"
   ]
  },
  {
   "cell_type": "code",
   "execution_count": null,
   "id": "fa212084",
   "metadata": {},
   "outputs": [],
   "source": []
  }
 ],
 "metadata": {
  "kernelspec": {
   "display_name": "tf-env",
   "language": "python",
   "name": "python3"
  },
  "language_info": {
   "codemirror_mode": {
    "name": "ipython",
    "version": 3
   },
   "file_extension": ".py",
   "mimetype": "text/x-python",
   "name": "python",
   "nbconvert_exporter": "python",
   "pygments_lexer": "ipython3",
   "version": "3.10.18"
  }
 },
 "nbformat": 4,
 "nbformat_minor": 5
}
