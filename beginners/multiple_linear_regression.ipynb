{
 "cells": [
  {
   "cell_type": "code",
   "execution_count": 29,
   "id": "affa84a5",
   "metadata": {},
   "outputs": [],
   "source": [
    "from sklearn.datasets import fetch_california_housing\n",
    "from sklearn.model_selection import train_test_split\n",
    "import pandas as pd\n",
    "import numpy as np"
   ]
  },
  {
   "cell_type": "code",
   "execution_count": 30,
   "id": "2a5533a0",
   "metadata": {},
   "outputs": [],
   "source": [
    "data = fetch_california_housing(as_frame=True)\n",
    "df = data.frame\n",
    "X = df.drop(columns=['MedHouseVal'])\n",
    "y = df['MedHouseVal']"
   ]
  },
  {
   "cell_type": "code",
   "execution_count": 31,
   "id": "341bd410",
   "metadata": {},
   "outputs": [],
   "source": [
    "x_train, x_test, y_train, y_test = train_test_split(X, y, test_size=0.2, random_state=42)"
   ]
  },
  {
   "cell_type": "code",
   "execution_count": 32,
   "id": "8f12fbe9",
   "metadata": {},
   "outputs": [],
   "source": [
    "x_train_np = np.c_[np.ones((x_train.shape[0],1)),x_train.values]\n",
    "y_train_np = y_train.values.reshape(-1,1)\n",
    "\n",
    "\n",
    "x_test_np = np.c_[np.ones((x_test.shape[0],1)),x_test.values]\n",
    "y_test_np = y_test.values.reshape(-1,1)"
   ]
  },
  {
   "cell_type": "code",
   "execution_count": 33,
   "id": "99e04bde",
   "metadata": {},
   "outputs": [],
   "source": [
    "w = np.linalg.inv(x_train_np.T @ x_train_np) @ x_train_np.T @ y_train_np"
   ]
  },
  {
   "cell_type": "code",
   "execution_count": 36,
   "id": "24cf5467",
   "metadata": {},
   "outputs": [],
   "source": [
    "y_pred = x_test_np @ w"
   ]
  },
  {
   "cell_type": "code",
   "execution_count": 37,
   "id": "be0454e4",
   "metadata": {},
   "outputs": [],
   "source": [
    "mse = np.mean((y_test_np-y_pred)**2)"
   ]
  },
  {
   "cell_type": "code",
   "execution_count": 38,
   "id": "31f05491",
   "metadata": {},
   "outputs": [
    {
     "name": "stdout",
     "output_type": "stream",
     "text": [
      "mean squre error: 0.5558915986959397\n"
     ]
    }
   ],
   "source": [
    "print(\"mean squre error:\",mse)"
   ]
  },
  {
   "cell_type": "code",
   "execution_count": null,
   "id": "16c60ded",
   "metadata": {},
   "outputs": [],
   "source": []
  }
 ],
 "metadata": {
  "kernelspec": {
   "display_name": "tf-env",
   "language": "python",
   "name": "python3"
  },
  "language_info": {
   "codemirror_mode": {
    "name": "ipython",
    "version": 3
   },
   "file_extension": ".py",
   "mimetype": "text/x-python",
   "name": "python",
   "nbconvert_exporter": "python",
   "pygments_lexer": "ipython3",
   "version": "3.10.18"
  }
 },
 "nbformat": 4,
 "nbformat_minor": 5
}
